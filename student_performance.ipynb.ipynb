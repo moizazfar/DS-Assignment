{
 "cells": [
  {
   "cell_type": "code",
   "execution_count": null,
   "metadata": {
    "colab": {
     "base_uri": "https://localhost:8080/",
     "height": 424
    },
    "id": "6bOzN40T2Txq",
    "outputId": "97576252-e8bf-45c9-dcc8-88b3cab1211b"
   },
   "outputs": [],
   "source": [
    "import pandas as pd\n",
    "df = pd.read_csv(\"student_data.csv\")\n",
    "df"
   ]
  },
  {
   "cell_type": "code",
   "execution_count": null,
   "metadata": {
    "colab": {
     "base_uri": "https://localhost:8080/",
     "height": 236
    },
    "id": "tzTl07jD2_us",
    "outputId": "0bdb0fd4-c04c-4be3-f18d-783365352327"
   },
   "outputs": [],
   "source": [
    "df.head()"
   ]
  },
  {
   "cell_type": "code",
   "execution_count": null,
   "metadata": {
    "colab": {
     "base_uri": "https://localhost:8080/",
     "height": 236
    },
    "id": "VOGLuC7Y4eow",
    "outputId": "64079116-c2c2-4832-ccc4-debee55f5789"
   },
   "outputs": [],
   "source": [
    "df.tail()"
   ]
  },
  {
   "cell_type": "code",
   "execution_count": null,
   "metadata": {
    "colab": {
     "base_uri": "https://localhost:8080/"
    },
    "id": "zSYpWgMqJQd0",
    "outputId": "e9fbe2b8-b014-41e3-8389-07a32aaddad1"
   },
   "outputs": [],
   "source": [
    "df.shape"
   ]
  },
  {
   "cell_type": "code",
   "execution_count": null,
   "metadata": {
    "colab": {
     "base_uri": "https://localhost:8080/"
    },
    "id": "-0TRx8t45X0A",
    "outputId": "1766dd2c-9860-4f51-a288-06bfd81b9be8"
   },
   "outputs": [],
   "source": [
    "df.info()"
   ]
  },
  {
   "cell_type": "code",
   "execution_count": null,
   "metadata": {
    "colab": {
     "base_uri": "https://localhost:8080/"
    },
    "id": "aEvylBnSHbl4",
    "outputId": "4c7b1b7d-741a-434d-b28b-264a049c067d"
   },
   "outputs": [],
   "source": [
    "df.dtypes"
   ]
  },
  {
   "cell_type": "code",
   "execution_count": null,
   "metadata": {
    "colab": {
     "base_uri": "https://localhost:8080/"
    },
    "id": "jN3zo7PO5d8e",
    "outputId": "09089816-eccd-43dd-c20b-69456d73ed7c"
   },
   "outputs": [],
   "source": [
    "df.describe"
   ]
  },
  {
   "cell_type": "code",
   "execution_count": null,
   "metadata": {
    "colab": {
     "base_uri": "https://localhost:8080/"
    },
    "id": "9SWqay-M5gv9",
    "outputId": "12492591-d5d2-4a52-c293-e91318189a7f"
   },
   "outputs": [],
   "source": [
    "df.isnull().sum()"
   ]
  },
  {
   "cell_type": "code",
   "execution_count": null,
   "metadata": {
    "colab": {
     "base_uri": "https://localhost:8080/"
    },
    "id": "LkEHJsBIAfT6",
    "outputId": "61c6320c-f7d2-4790-9c18-5e3a1f46d3ad"
   },
   "outputs": [],
   "source": [
    "df.duplicated()"
   ]
  },
  {
   "cell_type": "code",
   "execution_count": null,
   "metadata": {
    "colab": {
     "base_uri": "https://localhost:8080/"
    },
    "id": "zalQpdYRD8nl",
    "outputId": "4f2d7104-ef0c-46b1-f469-5563d1dc4acc"
   },
   "outputs": [],
   "source": [
    "df.columns"
   ]
  },
  {
   "cell_type": "code",
   "execution_count": null,
   "metadata": {
    "colab": {
     "base_uri": "https://localhost:8080/"
    },
    "id": "JoFNI0yKEUvV",
    "outputId": "f99fff4c-3d1e-4b3b-9af0-ed78624375fe"
   },
   "outputs": [],
   "source": [
    "df.nunique()"
   ]
  },
  {
   "cell_type": "markdown",
   "metadata": {
    "id": "XAli4wzXBMz-"
   },
   "source": []
  },
  {
   "cell_type": "code",
   "execution_count": null,
   "metadata": {
    "id": "FDUASkzTMSzY"
   },
   "outputs": [],
   "source": []
  },
  {
   "cell_type": "code",
   "execution_count": null,
   "metadata": {
    "colab": {
     "base_uri": "https://localhost:8080/",
     "height": 1000
    },
    "id": "wiwSZ9BACl_v",
    "outputId": "62fc70a6-822f-495d-fc99-0d7faf15ba84"
   },
   "outputs": [],
   "source": [
    "import seaborn as sns\n",
    "sns.pairplot(df)"
   ]
  },
  {
   "cell_type": "code",
   "execution_count": null,
   "metadata": {
    "colab": {
     "base_uri": "https://localhost:8080/"
    },
    "id": "7yio4yzqMUyX",
    "outputId": "fa0cdf7e-a194-463f-bd96-cf5ccca5b30a"
   },
   "outputs": [],
   "source": [
    "numeric_values = df.select_dtypes(include=['int64']).columns\n",
    "numeric_values"
   ]
  },
  {
   "cell_type": "code",
   "execution_count": null,
   "metadata": {
    "colab": {
     "base_uri": "https://localhost:8080/"
    },
    "id": "wwGlfRcobfX_",
    "outputId": "25c89995-0e0b-4ff4-ce38-e9cc65743aa2"
   },
   "outputs": [],
   "source": [
    "categorical_values = df.select_dtypes(include=['object']).columns\n",
    "categorical_values"
   ]
  },
  {
   "cell_type": "code",
   "execution_count": null,
   "metadata": {
    "colab": {
     "base_uri": "https://localhost:8080/",
     "height": 603
    },
    "id": "DRB4R34R4OgF",
    "outputId": "3fa9b6e6-e535-405f-d7e7-d28e4854e73f"
   },
   "outputs": [],
   "source": [
    "import matplotlib.pyplot as plt\n",
    "plt.figure(figsize=(16,6))\n",
    "sns.heatmap(df[numeric_values].corr(),annot=True)"
   ]
  },
  {
   "cell_type": "code",
   "execution_count": null,
   "metadata": {
    "colab": {
     "base_uri": "https://localhost:8080/"
    },
    "id": "YGWXqMMVdLj9",
    "outputId": "42f1a316-38b5-428e-f0e8-a72220f885e3"
   },
   "outputs": [],
   "source": [
    "dist_gender=df['sex'].value_counts()\n",
    "print('Distribution by Gender:\\n',dist_gender)"
   ]
  },
  {
   "cell_type": "code",
   "execution_count": null,
   "metadata": {
    "colab": {
     "base_uri": "https://localhost:8080/"
    },
    "id": "5E0Iyrindd_C",
    "outputId": "515a74e6-646d-4beb-a2c0-1f88b0240f41"
   },
   "outputs": [],
   "source": [
    "avg_age=df['age'].mean()\n",
    "print(\"Average Age\",avg_age)"
   ]
  },
  {
   "cell_type": "code",
   "execution_count": null,
   "metadata": {
    "colab": {
     "base_uri": "https://localhost:8080/"
    },
    "id": "3xWKuLjqpcpU",
    "outputId": "4d196e74-c92d-49bc-e30b-a3d2ed2f7a6f"
   },
   "outputs": [],
   "source": [
    "avg_failures=df['failures'].mean()\n",
    "print(\"Average Failures\",avg_failures)"
   ]
  },
  {
   "cell_type": "code",
   "execution_count": null,
   "metadata": {
    "colab": {
     "base_uri": "https://localhost:8080/"
    },
    "id": "pUt_WAwApqbK",
    "outputId": "9f73e1c7-69b2-4745-e315-4f39979af219"
   },
   "outputs": [],
   "source": [
    "avg_stime=df['studytime'].mean()\n",
    "print(\"Average Study Time\",avg_stime)"
   ]
  },
  {
   "cell_type": "code",
   "execution_count": null,
   "metadata": {
    "colab": {
     "base_uri": "https://localhost:8080/"
    },
    "id": "z6o3SLFopzji",
    "outputId": "0e4d7865-9e6a-427d-9e59-e07c0a6d777b"
   },
   "outputs": [],
   "source": [
    "avg_ttime=df['traveltime'].mean()\n",
    "print(\"Average Travel Time\",avg_ttime)"
   ]
  },
  {
   "cell_type": "code",
   "execution_count": null,
   "metadata": {
    "colab": {
     "base_uri": "https://localhost:8080/"
    },
    "id": "IwBUVj8np_at",
    "outputId": "1d567f86-3fd8-4685-b6ae-562c73d07a25"
   },
   "outputs": [],
   "source": [
    "avg_ftime=df['freetime'].mean()\n",
    "print(\"Average Free Time\",avg_ftime)"
   ]
  },
  {
   "cell_type": "code",
   "execution_count": null,
   "metadata": {
    "colab": {
     "base_uri": "https://localhost:8080/",
     "height": 236
    },
    "id": "n3RAkKpn062t",
    "outputId": "b36b28e1-b46a-4a1d-dcc9-1780a36afe80"
   },
   "outputs": [],
   "source": [
    "df.drop(columns=['Walc','Dalc','romantic','nursery','famrel','higher','reason'],inplace=True)\n",
    "df.head()"
   ]
  },
  {
   "cell_type": "code",
   "execution_count": null,
   "metadata": {
    "colab": {
     "base_uri": "https://localhost:8080/",
     "height": 564
    },
    "id": "bxQfIopS13jK",
    "outputId": "02ab6c97-1c64-4caa-a4dc-ed04ddfb6bda"
   },
   "outputs": [],
   "source": [
    "plt.figure(figsize=(8, 6))\n",
    "sns.boxplot(x=df['age'])\n",
    "plt.title('Box Plot of age')\n",
    "plt.show()"
   ]
  },
  {
   "cell_type": "code",
   "execution_count": null,
   "metadata": {
    "colab": {
     "base_uri": "https://localhost:8080/",
     "height": 466
    },
    "id": "7T2qVfHy3yUj",
    "outputId": "90b600bf-140e-484e-f4c3-c0cdecebcb70"
   },
   "outputs": [],
   "source": [
    "sns.barplot(data=df,x='sex',y='age')"
   ]
  },
  {
   "cell_type": "code",
   "execution_count": null,
   "metadata": {
    "colab": {
     "base_uri": "https://localhost:8080/",
     "height": 466
    },
    "id": "HQACksiH2RE8",
    "outputId": "25707dc4-cf71-438e-87d7-d8b0c473472d"
   },
   "outputs": [],
   "source": [
    "sns.boxplot(data=df,x='activities',y='age')"
   ]
  },
  {
   "cell_type": "code",
   "execution_count": null,
   "metadata": {
    "colab": {
     "base_uri": "https://localhost:8080/",
     "height": 466
    },
    "id": "M9K1ZnO83kbK",
    "outputId": "2fb82013-059c-45f2-f805-68bc386d6d72"
   },
   "outputs": [],
   "source": [
    "sns.boxplot(df,x='paid',y='age')"
   ]
  },
  {
   "cell_type": "code",
   "execution_count": null,
   "metadata": {
    "colab": {
     "base_uri": "https://localhost:8080/",
     "height": 466
    },
    "id": "Vh5XlO8M3exC",
    "outputId": "bccaf864-50c0-47c3-e339-9ca888c63cb0"
   },
   "outputs": [],
   "source": [
    "sns.histplot(df['health'],kde=True)"
   ]
  }
 ],
 "metadata": {
  "colab": {
   "provenance": []
  },
  "kernelspec": {
   "display_name": "Python 3 (ipykernel)",
   "language": "python",
   "name": "python3"
  },
  "language_info": {
   "codemirror_mode": {
    "name": "ipython",
    "version": 3
   },
   "file_extension": ".py",
   "mimetype": "text/x-python",
   "name": "python",
   "nbconvert_exporter": "python",
   "pygments_lexer": "ipython3",
   "version": "3.11.5"
  }
 },
 "nbformat": 4,
 "nbformat_minor": 1
}
