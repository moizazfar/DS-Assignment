{
 "cells": [
  {
   "cell_type": "markdown",
   "id": "f09e26bc",
   "metadata": {},
   "source": [
    "###                                              DATA SCIENCE BOOTCAMP ASSIGNMENT 1"
   ]
  },
  {
   "cell_type": "markdown",
   "id": "92a75a76",
   "metadata": {},
   "source": [
    "1. Write a program to iterate the first 10 numbers, and in each iteration, print the sum of the current and previous number."
   ]
  },
  {
   "cell_type": "code",
   "execution_count": 1,
   "id": "189dc72a",
   "metadata": {},
   "outputs": [
    {
     "name": "stdout",
     "output_type": "stream",
     "text": [
      "Sum of Iteration 1: 1 + 0 = 1\n",
      "Sum of Iteration 2: 1 + 1 = 2\n",
      "Sum of Iteration 3: 2 + 1 = 3\n",
      "Sum of Iteration 4: 3 + 2 = 5\n",
      "Sum of Iteration 5: 4 + 3 = 7\n",
      "Sum of Iteration 6: 5 + 4 = 9\n",
      "Sum of Iteration 7: 6 + 5 = 11\n",
      "Sum of Iteration 8: 7 + 6 = 13\n",
      "Sum of Iteration 9: 8 + 7 = 15\n",
      "Sum of Iteration 10: 9 + 8 = 17\n",
      "Sum of Iteration 11: 10 + 9 = 19\n"
     ]
    }
   ],
   "source": [
    "c_num = 1\n",
    "p_num = 0\n",
    "sum_i = 1\n",
    "\n",
    "while sum_i <= 11:\n",
    "    sum_num = c_num + p_num\n",
    "\n",
    "    print(f\"Sum of Iteration {sum_i}: {c_num} + {p_num} = {sum_num}\")\n",
    "\n",
    "    p_num = c_num\n",
    "    c_num = sum_i\n",
    "\n",
    "    sum_i += 1\n"
   ]
  },
  {
   "cell_type": "markdown",
   "id": "394c41ee",
   "metadata": {},
   "source": [
    "2. Print the following pattern\n",
    "\n",
    "1\n",
    "2 2\n",
    "3 3 3\n",
    "4 4 4 4\n",
    "5 5 5 5 5\n"
   ]
  },
  {
   "cell_type": "code",
   "execution_count": 6,
   "id": "16d2d259",
   "metadata": {},
   "outputs": [
    {
     "name": "stdout",
     "output_type": "stream",
     "text": [
      "1 \n",
      "2 2 \n",
      "3 3 3 \n",
      "4 4 4 4 \n",
      "5 5 5 5 5 \n"
     ]
    }
   ],
   "source": [
    "for i in range(1,6):\n",
    "    for j in range(i):\n",
    "        print(i,end=' ')\n",
    "    print()"
   ]
  },
  {
   "cell_type": "markdown",
   "id": "50c039fd",
   "metadata": {},
   "source": [
    "3. List is given below:\n",
    "    \n",
    "numbers = [12, 75, 150, 180, 145, 525, 50]\n",
    "\n",
    "Write a program to display only those numbers from a list that satisfy the following\n",
    "conditions\n",
    "\n",
    "i. The number must be divisible by five,\n",
    "ii. If the number is greater than 150, then skip it and move to the next number,\n",
    "iii. If the number is greater than 500, then stop the loop"
   ]
  },
  {
   "cell_type": "code",
   "execution_count": 9,
   "id": "2cafe510",
   "metadata": {},
   "outputs": [
    {
     "name": "stdout",
     "output_type": "stream",
     "text": [
      "75\n",
      "150\n",
      "145\n",
      "50\n"
     ]
    }
   ],
   "source": [
    "numbers = [12,75,150,180,145,525,50]\n",
    "\n",
    "for num in numbers:\n",
    "    if (num%5==0):\n",
    "        if (num>150):\n",
    "            continue\n",
    "        if (num>500):\n",
    "            break\n",
    "            \n",
    "        print(num)"
   ]
  },
  {
   "cell_type": "markdown",
   "id": "bf3db238",
   "metadata": {},
   "source": [
    "4. Display Fibonacci series up to 10 terms\n",
    "\n",
    "The Fibonacci Sequence is a series of numbers. The next number is found by adding up the two numbers before it. The first two numbers are 0 and 1.\n",
    "For example, 0, 1, 1, 2, 3, 5, 8, 13, 21. The next number in this series above is 13+21 = 34"
   ]
  },
  {
   "cell_type": "code",
   "execution_count": 19,
   "id": "9025ac67",
   "metadata": {},
   "outputs": [
    {
     "name": "stdout",
     "output_type": "stream",
     "text": [
      "0 1 1 2 3 5 8 13 21 34 "
     ]
    }
   ],
   "source": [
    "num1 = 0\n",
    "num2 = 1\n",
    "\n",
    "print(num1,num2,end=' ')\n",
    "\n",
    "for i in range(8):\n",
    "    sum = num1 + num2\n",
    "    \n",
    "    print(sum, end= ' ')\n",
    "\n",
    "    num1=num2\n",
    "    num2=sum\n"
   ]
  },
  {
   "cell_type": "markdown",
   "id": "45a358ce",
   "metadata": {},
   "source": [
    "5. Write a program to use the loop to find the factorial of a given number.\n",
    "\n",
    "The factorial (symbol: !) means to multiply all whole numbers from the chosen number down to 1.\n",
    "For example: calculate the factorial of 5\n",
    "5! = 5 × 4 × 3 × 2 × 1 = 120"
   ]
  },
  {
   "cell_type": "code",
   "execution_count": 23,
   "id": "0dea8ee0",
   "metadata": {},
   "outputs": [
    {
     "name": "stdout",
     "output_type": "stream",
     "text": [
      "Enter number for factorial..:5\n",
      "Factorial of a given number is: 120\n"
     ]
    }
   ],
   "source": [
    "num = int(input(\"Enter number for factorial..:\"))\n",
    "fact=1\n",
    "\n",
    "if (num<0):\n",
    "    print(\"Number should be non-negative\")\n",
    "else:\n",
    "    for i in range(1,num+1):\n",
    "        fact = fact*i\n",
    "    print(\"Factorial of a given number is:\",fact)"
   ]
  },
  {
   "cell_type": "markdown",
   "id": "4b3e6b33",
   "metadata": {},
   "source": [
    "6. Write a program to iterate a given list and count the occurrence of each element and print to show the count of each element.\n",
    "\n",
    "sample_list = [11, 45, 8, 11, 23, 45, 23, 45, 89]\n",
    "Expected Output:\n",
    "Printing count of each item 11: 2, 45: 3, 8: 1, 23: 2, 89: 1"
   ]
  },
  {
   "cell_type": "code",
   "execution_count": 28,
   "id": "561456d8",
   "metadata": {},
   "outputs": [
    {
     "name": "stdout",
     "output_type": "stream",
     "text": [
      "Count of 8: 1\n",
      "Count of 11: 2\n",
      "Count of 45: 3\n",
      "Count of 23: 2\n",
      "Count of 89: 1\n"
     ]
    }
   ],
   "source": [
    "sample_list = [11, 45, 8, 11, 23, 45, 23, 45, 89]\n",
    "\n",
    "for item in set(sample_list):\n",
    "    count = sample_list.count(item)\n",
    "    print(f\"Count of {item}: {count}\")\n"
   ]
  },
  {
   "cell_type": "markdown",
   "id": "156cae2f",
   "metadata": {},
   "source": [
    "7. Given two lists, l1 and l2, write a program to create a third list l3 by picking an odd-index element from the list l1 and even index elements from the list l2.\n",
    "Given:\n",
    "l1 = [3, 6, 9, 12, 15, 18, 21]\n",
    "l2 = [4, 8, 12, 16, 20, 24, 28]"
   ]
  },
  {
   "cell_type": "code",
   "execution_count": 14,
   "id": "2b443853",
   "metadata": {},
   "outputs": [
    {
     "name": "stdout",
     "output_type": "stream",
     "text": [
      "Resulting list l3: [3, 9, 15, 21, 4, 8, 12, 16, 20, 24, 28]\n"
     ]
    }
   ],
   "source": [
    "l1 = [3,6,9,12,15,18,21]\n",
    "l2 = [4,8,12,16,20,24,28]\n",
    "\n",
    "l3 = []\n",
    "\n",
    "\n",
    "for i in l1:\n",
    "    if i % 2 == 1:\n",
    "        l3.append(i)\n",
    "for j in l2:\n",
    "    if j % 2 == 0:\n",
    "        l3.append(j)\n",
    "\n",
    "print(\"Resulting list l3:\", l3)\n"
   ]
  }
 ],
 "metadata": {
  "kernelspec": {
   "display_name": "Python 3 (ipykernel)",
   "language": "python",
   "name": "python3"
  },
  "language_info": {
   "codemirror_mode": {
    "name": "ipython",
    "version": 3
   },
   "file_extension": ".py",
   "mimetype": "text/x-python",
   "name": "python",
   "nbconvert_exporter": "python",
   "pygments_lexer": "ipython3",
   "version": "3.11.5"
  }
 },
 "nbformat": 4,
 "nbformat_minor": 5
}
